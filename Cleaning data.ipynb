{
 "cells": [
  {
   "cell_type": "code",
   "execution_count": 21,
   "id": "c85d29da",
   "metadata": {},
   "outputs": [],
   "source": [
    "import pandas as pd "
   ]
  },
  {
   "cell_type": "code",
   "execution_count": 22,
   "id": "5166142a",
   "metadata": {},
   "outputs": [],
   "source": [
    "df_08 = pd.read_csv(\"data_08_v1.csv\") \n",
    "df_18 = pd.read_csv(\"data_18_v1.csv\") "
   ]
  },
  {
   "cell_type": "markdown",
   "id": "a3bdff7b",
   "metadata": {},
   "source": [
    "For consistency, only compare cars certified by California standards."
   ]
  },
  {
   "cell_type": "code",
   "execution_count": 23,
   "id": "3b2936ac",
   "metadata": {},
   "outputs": [
    {
     "data": {
      "text/plain": [
       "(2404, 14)"
      ]
     },
     "execution_count": 23,
     "metadata": {},
     "output_type": "execute_result"
    }
   ],
   "source": [
    "df_08.shape"
   ]
  },
  {
   "cell_type": "code",
   "execution_count": 24,
   "id": "1799a92d",
   "metadata": {},
   "outputs": [
    {
     "data": {
      "text/plain": [
       "(1611, 14)"
      ]
     },
     "execution_count": 24,
     "metadata": {},
     "output_type": "execute_result"
    }
   ],
   "source": [
    "df_18.shape"
   ]
  },
  {
   "cell_type": "code",
   "execution_count": 25,
   "id": "c7064383",
   "metadata": {},
   "outputs": [],
   "source": [
    "df_08 = df_08[df_08['cert_region']==\"CA\"]"
   ]
  },
  {
   "cell_type": "code",
   "execution_count": 26,
   "id": "d309dcce",
   "metadata": {},
   "outputs": [],
   "source": [
    "df_18 = df_18[df_18['cert_region']==\"CA\"]"
   ]
  },
  {
   "cell_type": "code",
   "execution_count": 27,
   "id": "059a6a97",
   "metadata": {},
   "outputs": [
    {
     "data": {
      "text/plain": [
       "(1084, 14)"
      ]
     },
     "execution_count": 27,
     "metadata": {},
     "output_type": "execute_result"
    }
   ],
   "source": [
    "df_08.shape"
   ]
  },
  {
   "cell_type": "markdown",
   "id": "9b38e133",
   "metadata": {},
   "source": [
    "Then drop cert_region as it it becomes uselss"
   ]
  },
  {
   "cell_type": "code",
   "execution_count": 28,
   "id": "d7a581fd",
   "metadata": {},
   "outputs": [],
   "source": [
    "df_08.drop(\"cert_region\",inplace =True,axis=1)\n",
    "df_18.drop(\"cert_region\",inplace =True,axis=1)"
   ]
  },
  {
   "cell_type": "code",
   "execution_count": 29,
   "id": "a91e1490",
   "metadata": {},
   "outputs": [
    {
     "data": {
      "text/plain": [
       "(1084, 13)"
      ]
     },
     "execution_count": 29,
     "metadata": {},
     "output_type": "execute_result"
    }
   ],
   "source": [
    "df_08.shape"
   ]
  },
  {
   "cell_type": "code",
   "execution_count": 30,
   "id": "b53ea544",
   "metadata": {},
   "outputs": [
    {
     "data": {
      "text/plain": [
       "(798, 13)"
      ]
     },
     "execution_count": 30,
     "metadata": {},
     "output_type": "execute_result"
    }
   ],
   "source": [
    "df_18.shape"
   ]
  },
  {
   "cell_type": "markdown",
   "id": "4f37cb4e",
   "metadata": {},
   "source": [
    "# Drop Rows with Missing Values"
   ]
  },
  {
   "cell_type": "code",
   "execution_count": 34,
   "id": "cab4ad65",
   "metadata": {},
   "outputs": [
    {
     "data": {
      "text/plain": [
       "75"
      ]
     },
     "execution_count": 34,
     "metadata": {},
     "output_type": "execute_result"
    }
   ],
   "source": [
    "#view missing value count for each feature in 2008\n",
    "df_08.isnull().any(axis=1).sum()"
   ]
  },
  {
   "cell_type": "code",
   "execution_count": 35,
   "id": "2361ed98",
   "metadata": {},
   "outputs": [
    {
     "data": {
      "text/plain": [
       "1"
      ]
     },
     "execution_count": 35,
     "metadata": {},
     "output_type": "execute_result"
    }
   ],
   "source": [
    "#view missing value count for each feature in 2018\n",
    "df_18.isnull().any(axis=1).sum()"
   ]
  },
  {
   "cell_type": "code",
   "execution_count": 36,
   "id": "9e5b5ff6",
   "metadata": {},
   "outputs": [],
   "source": [
    "# drop rows with any null values in both datasets\n",
    "df_08.dropna(inplace=True)\n",
    "df_18.dropna(inplace=True)"
   ]
  },
  {
   "cell_type": "code",
   "execution_count": 37,
   "id": "6f75b363",
   "metadata": {},
   "outputs": [
    {
     "data": {
      "text/plain": [
       "(1009, 13)"
      ]
     },
     "execution_count": 37,
     "metadata": {},
     "output_type": "execute_result"
    }
   ],
   "source": [
    "df_08.shape"
   ]
  },
  {
   "cell_type": "code",
   "execution_count": 38,
   "id": "60ece722",
   "metadata": {},
   "outputs": [
    {
     "data": {
      "text/plain": [
       "(797, 13)"
      ]
     },
     "execution_count": 38,
     "metadata": {},
     "output_type": "execute_result"
    }
   ],
   "source": [
    "df_18.shape"
   ]
  },
  {
   "cell_type": "code",
   "execution_count": null,
   "id": "0a6d008f",
   "metadata": {},
   "outputs": [],
   "source": []
  }
 ],
 "metadata": {
  "kernelspec": {
   "display_name": "Python 3 (ipykernel)",
   "language": "python",
   "name": "python3"
  },
  "language_info": {
   "codemirror_mode": {
    "name": "ipython",
    "version": 3
   },
   "file_extension": ".py",
   "mimetype": "text/x-python",
   "name": "python",
   "nbconvert_exporter": "python",
   "pygments_lexer": "ipython3",
   "version": "3.9.7"
  }
 },
 "nbformat": 4,
 "nbformat_minor": 5
}
