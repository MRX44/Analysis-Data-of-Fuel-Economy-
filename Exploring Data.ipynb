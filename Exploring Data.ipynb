{
 "cells": [
  {
   "cell_type": "code",
   "execution_count": 4,
   "id": "d2507bf5",
   "metadata": {},
   "outputs": [],
   "source": [
    "import pandas as pd \n",
    "import matplotlib.pyplot as plt\n",
    "%matplotlib inline"
   ]
  },
  {
   "cell_type": "markdown",
   "id": "edfb1cde",
   "metadata": {},
   "source": [
    "# Exploring the datasets"
   ]
  },
  {
   "cell_type": "code",
   "execution_count": 55,
   "id": "29cb00f2",
   "metadata": {},
   "outputs": [],
   "source": [
    "df_1 = pd.read_csv(\"all_alpha_08.csv\")\n",
    "df_2 = pd.read_csv(\"all_alpha_18.csv\")"
   ]
  },
  {
   "cell_type": "code",
   "execution_count": 6,
   "id": "9e7a1862",
   "metadata": {},
   "outputs": [
    {
     "data": {
      "text/html": [
       "<div>\n",
       "<style scoped>\n",
       "    .dataframe tbody tr th:only-of-type {\n",
       "        vertical-align: middle;\n",
       "    }\n",
       "\n",
       "    .dataframe tbody tr th {\n",
       "        vertical-align: top;\n",
       "    }\n",
       "\n",
       "    .dataframe thead th {\n",
       "        text-align: right;\n",
       "    }\n",
       "</style>\n",
       "<table border=\"1\" class=\"dataframe\">\n",
       "  <thead>\n",
       "    <tr style=\"text-align: right;\">\n",
       "      <th></th>\n",
       "      <th>Model</th>\n",
       "      <th>Displ</th>\n",
       "      <th>Cyl</th>\n",
       "      <th>Trans</th>\n",
       "      <th>Drive</th>\n",
       "      <th>Fuel</th>\n",
       "      <th>Sales Area</th>\n",
       "      <th>Stnd</th>\n",
       "      <th>Underhood ID</th>\n",
       "      <th>Veh Class</th>\n",
       "      <th>Air Pollution Score</th>\n",
       "      <th>FE Calc Appr</th>\n",
       "      <th>City MPG</th>\n",
       "      <th>Hwy MPG</th>\n",
       "      <th>Cmb MPG</th>\n",
       "      <th>Unadj Cmb MPG</th>\n",
       "      <th>Greenhouse Gas Score</th>\n",
       "      <th>SmartWay</th>\n",
       "    </tr>\n",
       "  </thead>\n",
       "  <tbody>\n",
       "    <tr>\n",
       "      <th>0</th>\n",
       "      <td>ACURA MDX</td>\n",
       "      <td>3.7</td>\n",
       "      <td>(6 cyl)</td>\n",
       "      <td>Auto-S5</td>\n",
       "      <td>4WD</td>\n",
       "      <td>Gasoline</td>\n",
       "      <td>CA</td>\n",
       "      <td>U2</td>\n",
       "      <td>8HNXT03.7PKR</td>\n",
       "      <td>SUV</td>\n",
       "      <td>7</td>\n",
       "      <td>Drv</td>\n",
       "      <td>15</td>\n",
       "      <td>20</td>\n",
       "      <td>17</td>\n",
       "      <td>22.0527</td>\n",
       "      <td>4</td>\n",
       "      <td>no</td>\n",
       "    </tr>\n",
       "    <tr>\n",
       "      <th>1</th>\n",
       "      <td>ACURA MDX</td>\n",
       "      <td>3.7</td>\n",
       "      <td>(6 cyl)</td>\n",
       "      <td>Auto-S5</td>\n",
       "      <td>4WD</td>\n",
       "      <td>Gasoline</td>\n",
       "      <td>FA</td>\n",
       "      <td>B5</td>\n",
       "      <td>8HNXT03.7PKR</td>\n",
       "      <td>SUV</td>\n",
       "      <td>6</td>\n",
       "      <td>Drv</td>\n",
       "      <td>15</td>\n",
       "      <td>20</td>\n",
       "      <td>17</td>\n",
       "      <td>22.0527</td>\n",
       "      <td>4</td>\n",
       "      <td>no</td>\n",
       "    </tr>\n",
       "    <tr>\n",
       "      <th>2</th>\n",
       "      <td>ACURA RDX</td>\n",
       "      <td>2.3</td>\n",
       "      <td>(4 cyl)</td>\n",
       "      <td>Auto-S5</td>\n",
       "      <td>4WD</td>\n",
       "      <td>Gasoline</td>\n",
       "      <td>CA</td>\n",
       "      <td>U2</td>\n",
       "      <td>8HNXT02.3DKR</td>\n",
       "      <td>SUV</td>\n",
       "      <td>7</td>\n",
       "      <td>Drv</td>\n",
       "      <td>17</td>\n",
       "      <td>22</td>\n",
       "      <td>19</td>\n",
       "      <td>24.1745</td>\n",
       "      <td>5</td>\n",
       "      <td>no</td>\n",
       "    </tr>\n",
       "    <tr>\n",
       "      <th>3</th>\n",
       "      <td>ACURA RDX</td>\n",
       "      <td>2.3</td>\n",
       "      <td>(4 cyl)</td>\n",
       "      <td>Auto-S5</td>\n",
       "      <td>4WD</td>\n",
       "      <td>Gasoline</td>\n",
       "      <td>FA</td>\n",
       "      <td>B5</td>\n",
       "      <td>8HNXT02.3DKR</td>\n",
       "      <td>SUV</td>\n",
       "      <td>6</td>\n",
       "      <td>Drv</td>\n",
       "      <td>17</td>\n",
       "      <td>22</td>\n",
       "      <td>19</td>\n",
       "      <td>24.1745</td>\n",
       "      <td>5</td>\n",
       "      <td>no</td>\n",
       "    </tr>\n",
       "    <tr>\n",
       "      <th>4</th>\n",
       "      <td>ACURA RL</td>\n",
       "      <td>3.5</td>\n",
       "      <td>(6 cyl)</td>\n",
       "      <td>Auto-S5</td>\n",
       "      <td>4WD</td>\n",
       "      <td>Gasoline</td>\n",
       "      <td>CA</td>\n",
       "      <td>U2</td>\n",
       "      <td>8HNXV03.5HKR</td>\n",
       "      <td>midsize car</td>\n",
       "      <td>7</td>\n",
       "      <td>Drv</td>\n",
       "      <td>16</td>\n",
       "      <td>24</td>\n",
       "      <td>19</td>\n",
       "      <td>24.5629</td>\n",
       "      <td>5</td>\n",
       "      <td>no</td>\n",
       "    </tr>\n",
       "  </tbody>\n",
       "</table>\n",
       "</div>"
      ],
      "text/plain": [
       "       Model  Displ      Cyl    Trans Drive      Fuel Sales Area Stnd  \\\n",
       "0  ACURA MDX    3.7  (6 cyl)  Auto-S5   4WD  Gasoline         CA   U2   \n",
       "1  ACURA MDX    3.7  (6 cyl)  Auto-S5   4WD  Gasoline         FA   B5   \n",
       "2  ACURA RDX    2.3  (4 cyl)  Auto-S5   4WD  Gasoline         CA   U2   \n",
       "3  ACURA RDX    2.3  (4 cyl)  Auto-S5   4WD  Gasoline         FA   B5   \n",
       "4   ACURA RL    3.5  (6 cyl)  Auto-S5   4WD  Gasoline         CA   U2   \n",
       "\n",
       "   Underhood ID    Veh Class Air Pollution Score FE Calc Appr City MPG  \\\n",
       "0  8HNXT03.7PKR          SUV                   7          Drv       15   \n",
       "1  8HNXT03.7PKR          SUV                   6          Drv       15   \n",
       "2  8HNXT02.3DKR          SUV                   7          Drv       17   \n",
       "3  8HNXT02.3DKR          SUV                   6          Drv       17   \n",
       "4  8HNXV03.5HKR  midsize car                   7          Drv       16   \n",
       "\n",
       "  Hwy MPG Cmb MPG  Unadj Cmb MPG Greenhouse Gas Score SmartWay  \n",
       "0      20      17        22.0527                    4       no  \n",
       "1      20      17        22.0527                    4       no  \n",
       "2      22      19        24.1745                    5       no  \n",
       "3      22      19        24.1745                    5       no  \n",
       "4      24      19        24.5629                    5       no  "
      ]
     },
     "execution_count": 6,
     "metadata": {},
     "output_type": "execute_result"
    }
   ],
   "source": [
    "df_1.head()"
   ]
  },
  {
   "cell_type": "code",
   "execution_count": 7,
   "id": "9e94df20",
   "metadata": {},
   "outputs": [
    {
     "data": {
      "text/plain": [
       "(2404, 18)"
      ]
     },
     "execution_count": 7,
     "metadata": {},
     "output_type": "execute_result"
    }
   ],
   "source": [
    "df_1.shape"
   ]
  },
  {
   "cell_type": "code",
   "execution_count": 8,
   "id": "7f3376cf",
   "metadata": {},
   "outputs": [
    {
     "data": {
      "text/plain": [
       "Model                    object\n",
       "Displ                   float64\n",
       "Cyl                      object\n",
       "Trans                    object\n",
       "Drive                    object\n",
       "Fuel                     object\n",
       "Sales Area               object\n",
       "Stnd                     object\n",
       "Underhood ID             object\n",
       "Veh Class                object\n",
       "Air Pollution Score      object\n",
       "FE Calc Appr             object\n",
       "City MPG                 object\n",
       "Hwy MPG                  object\n",
       "Cmb MPG                  object\n",
       "Unadj Cmb MPG           float64\n",
       "Greenhouse Gas Score     object\n",
       "SmartWay                 object\n",
       "dtype: object"
      ]
     },
     "execution_count": 8,
     "metadata": {},
     "output_type": "execute_result"
    }
   ],
   "source": [
    "df_1.dtypes"
   ]
  },
  {
   "cell_type": "code",
   "execution_count": 10,
   "id": "044bb00b",
   "metadata": {},
   "outputs": [
    {
     "data": {
      "text/plain": [
       "25"
      ]
     },
     "execution_count": 10,
     "metadata": {},
     "output_type": "execute_result"
    }
   ],
   "source": [
    "df_1.duplicated().sum()"
   ]
  },
  {
   "cell_type": "code",
   "execution_count": 13,
   "id": "98d0f051",
   "metadata": {},
   "outputs": [
    {
     "data": {
      "text/plain": [
       "Model                     0\n",
       "Displ                     0\n",
       "Cyl                     199\n",
       "Trans                   199\n",
       "Drive                    93\n",
       "Fuel                      0\n",
       "Sales Area                0\n",
       "Stnd                      0\n",
       "Underhood ID              0\n",
       "Veh Class                 0\n",
       "Air Pollution Score       0\n",
       "FE Calc Appr            199\n",
       "City MPG                199\n",
       "Hwy MPG                 199\n",
       "Cmb MPG                 199\n",
       "Unadj Cmb MPG           199\n",
       "Greenhouse Gas Score    199\n",
       "SmartWay                  0\n",
       "dtype: int64"
      ]
     },
     "execution_count": 13,
     "metadata": {},
     "output_type": "execute_result"
    }
   ],
   "source": [
    "df_1.isnull().sum()"
   ]
  },
  {
   "cell_type": "code",
   "execution_count": 18,
   "id": "b5cfacf1",
   "metadata": {},
   "outputs": [
    {
     "data": {
      "text/plain": [
       "array(['no', 'yes'], dtype=object)"
      ]
     },
     "execution_count": 18,
     "metadata": {},
     "output_type": "execute_result"
    }
   ],
   "source": [
    "df_1[\"SmartWay\"].dropna().unique()"
   ]
  },
  {
   "cell_type": "code",
   "execution_count": 19,
   "id": "4589f166",
   "metadata": {},
   "outputs": [
    {
     "data": {
      "text/plain": [
       "Index(['Model', 'Displ', 'Cyl', 'Trans', 'Drive', 'Fuel', 'Sales Area', 'Stnd',\n",
       "       'Underhood ID', 'Veh Class', 'Air Pollution Score', 'FE Calc Appr',\n",
       "       'City MPG', 'Hwy MPG', 'Cmb MPG', 'Unadj Cmb MPG',\n",
       "       'Greenhouse Gas Score', 'SmartWay'],\n",
       "      dtype='object')"
      ]
     },
     "execution_count": 19,
     "metadata": {},
     "output_type": "execute_result"
    }
   ],
   "source": [
    "df_1.columns "
   ]
  },
  {
   "cell_type": "code",
   "execution_count": 20,
   "id": "08b2d05b",
   "metadata": {},
   "outputs": [
    {
     "data": {
      "text/html": [
       "<div>\n",
       "<style scoped>\n",
       "    .dataframe tbody tr th:only-of-type {\n",
       "        vertical-align: middle;\n",
       "    }\n",
       "\n",
       "    .dataframe tbody tr th {\n",
       "        vertical-align: top;\n",
       "    }\n",
       "\n",
       "    .dataframe thead th {\n",
       "        text-align: right;\n",
       "    }\n",
       "</style>\n",
       "<table border=\"1\" class=\"dataframe\">\n",
       "  <thead>\n",
       "    <tr style=\"text-align: right;\">\n",
       "      <th></th>\n",
       "      <th>Model</th>\n",
       "      <th>Displ</th>\n",
       "      <th>Cyl</th>\n",
       "      <th>Trans</th>\n",
       "      <th>Drive</th>\n",
       "      <th>Fuel</th>\n",
       "      <th>Cert Region</th>\n",
       "      <th>Stnd</th>\n",
       "      <th>Stnd Description</th>\n",
       "      <th>Underhood ID</th>\n",
       "      <th>Veh Class</th>\n",
       "      <th>Air Pollution Score</th>\n",
       "      <th>City MPG</th>\n",
       "      <th>Hwy MPG</th>\n",
       "      <th>Cmb MPG</th>\n",
       "      <th>Greenhouse Gas Score</th>\n",
       "      <th>SmartWay</th>\n",
       "      <th>Comb CO2</th>\n",
       "    </tr>\n",
       "  </thead>\n",
       "  <tbody>\n",
       "    <tr>\n",
       "      <th>0</th>\n",
       "      <td>ACURA RDX</td>\n",
       "      <td>3.5</td>\n",
       "      <td>6.0</td>\n",
       "      <td>SemiAuto-6</td>\n",
       "      <td>2WD</td>\n",
       "      <td>Gasoline</td>\n",
       "      <td>FA</td>\n",
       "      <td>T3B125</td>\n",
       "      <td>Federal Tier 3 Bin 125</td>\n",
       "      <td>JHNXT03.5GV3</td>\n",
       "      <td>small SUV</td>\n",
       "      <td>3</td>\n",
       "      <td>20</td>\n",
       "      <td>28</td>\n",
       "      <td>23</td>\n",
       "      <td>5</td>\n",
       "      <td>No</td>\n",
       "      <td>386</td>\n",
       "    </tr>\n",
       "    <tr>\n",
       "      <th>1</th>\n",
       "      <td>ACURA RDX</td>\n",
       "      <td>3.5</td>\n",
       "      <td>6.0</td>\n",
       "      <td>SemiAuto-6</td>\n",
       "      <td>2WD</td>\n",
       "      <td>Gasoline</td>\n",
       "      <td>CA</td>\n",
       "      <td>U2</td>\n",
       "      <td>California LEV-II ULEV</td>\n",
       "      <td>JHNXT03.5GV3</td>\n",
       "      <td>small SUV</td>\n",
       "      <td>3</td>\n",
       "      <td>20</td>\n",
       "      <td>28</td>\n",
       "      <td>23</td>\n",
       "      <td>5</td>\n",
       "      <td>No</td>\n",
       "      <td>386</td>\n",
       "    </tr>\n",
       "    <tr>\n",
       "      <th>2</th>\n",
       "      <td>ACURA RDX</td>\n",
       "      <td>3.5</td>\n",
       "      <td>6.0</td>\n",
       "      <td>SemiAuto-6</td>\n",
       "      <td>4WD</td>\n",
       "      <td>Gasoline</td>\n",
       "      <td>FA</td>\n",
       "      <td>T3B125</td>\n",
       "      <td>Federal Tier 3 Bin 125</td>\n",
       "      <td>JHNXT03.5GV3</td>\n",
       "      <td>small SUV</td>\n",
       "      <td>3</td>\n",
       "      <td>19</td>\n",
       "      <td>27</td>\n",
       "      <td>22</td>\n",
       "      <td>4</td>\n",
       "      <td>No</td>\n",
       "      <td>402</td>\n",
       "    </tr>\n",
       "    <tr>\n",
       "      <th>3</th>\n",
       "      <td>ACURA RDX</td>\n",
       "      <td>3.5</td>\n",
       "      <td>6.0</td>\n",
       "      <td>SemiAuto-6</td>\n",
       "      <td>4WD</td>\n",
       "      <td>Gasoline</td>\n",
       "      <td>CA</td>\n",
       "      <td>U2</td>\n",
       "      <td>California LEV-II ULEV</td>\n",
       "      <td>JHNXT03.5GV3</td>\n",
       "      <td>small SUV</td>\n",
       "      <td>3</td>\n",
       "      <td>19</td>\n",
       "      <td>27</td>\n",
       "      <td>22</td>\n",
       "      <td>4</td>\n",
       "      <td>No</td>\n",
       "      <td>402</td>\n",
       "    </tr>\n",
       "    <tr>\n",
       "      <th>4</th>\n",
       "      <td>ACURA TLX</td>\n",
       "      <td>2.4</td>\n",
       "      <td>4.0</td>\n",
       "      <td>AMS-8</td>\n",
       "      <td>2WD</td>\n",
       "      <td>Gasoline</td>\n",
       "      <td>CA</td>\n",
       "      <td>L3ULEV125</td>\n",
       "      <td>California LEV-III ULEV125</td>\n",
       "      <td>JHNXV02.4WH3</td>\n",
       "      <td>small car</td>\n",
       "      <td>3</td>\n",
       "      <td>23</td>\n",
       "      <td>33</td>\n",
       "      <td>27</td>\n",
       "      <td>6</td>\n",
       "      <td>No</td>\n",
       "      <td>330</td>\n",
       "    </tr>\n",
       "  </tbody>\n",
       "</table>\n",
       "</div>"
      ],
      "text/plain": [
       "       Model  Displ  Cyl       Trans Drive      Fuel Cert Region       Stnd  \\\n",
       "0  ACURA RDX    3.5  6.0  SemiAuto-6   2WD  Gasoline          FA     T3B125   \n",
       "1  ACURA RDX    3.5  6.0  SemiAuto-6   2WD  Gasoline          CA         U2   \n",
       "2  ACURA RDX    3.5  6.0  SemiAuto-6   4WD  Gasoline          FA     T3B125   \n",
       "3  ACURA RDX    3.5  6.0  SemiAuto-6   4WD  Gasoline          CA         U2   \n",
       "4  ACURA TLX    2.4  4.0       AMS-8   2WD  Gasoline          CA  L3ULEV125   \n",
       "\n",
       "             Stnd Description  Underhood ID  Veh Class  Air Pollution Score  \\\n",
       "0      Federal Tier 3 Bin 125  JHNXT03.5GV3  small SUV                    3   \n",
       "1      California LEV-II ULEV  JHNXT03.5GV3  small SUV                    3   \n",
       "2      Federal Tier 3 Bin 125  JHNXT03.5GV3  small SUV                    3   \n",
       "3      California LEV-II ULEV  JHNXT03.5GV3  small SUV                    3   \n",
       "4  California LEV-III ULEV125  JHNXV02.4WH3  small car                    3   \n",
       "\n",
       "  City MPG Hwy MPG Cmb MPG  Greenhouse Gas Score SmartWay Comb CO2  \n",
       "0       20      28      23                     5       No      386  \n",
       "1       20      28      23                     5       No      386  \n",
       "2       19      27      22                     4       No      402  \n",
       "3       19      27      22                     4       No      402  \n",
       "4       23      33      27                     6       No      330  "
      ]
     },
     "execution_count": 20,
     "metadata": {},
     "output_type": "execute_result"
    }
   ],
   "source": [
    "df_2.head()"
   ]
  },
  {
   "cell_type": "code",
   "execution_count": 22,
   "id": "9871c0e0",
   "metadata": {},
   "outputs": [
    {
     "data": {
      "text/plain": [
       "(1611, 18)"
      ]
     },
     "execution_count": 22,
     "metadata": {},
     "output_type": "execute_result"
    }
   ],
   "source": [
    "df_2.shape"
   ]
  },
  {
   "cell_type": "code",
   "execution_count": 23,
   "id": "bd834051",
   "metadata": {},
   "outputs": [
    {
     "data": {
      "text/plain": [
       "Model                    object\n",
       "Displ                   float64\n",
       "Cyl                     float64\n",
       "Trans                    object\n",
       "Drive                    object\n",
       "Fuel                     object\n",
       "Cert Region              object\n",
       "Stnd                     object\n",
       "Stnd Description         object\n",
       "Underhood ID             object\n",
       "Veh Class                object\n",
       "Air Pollution Score       int64\n",
       "City MPG                 object\n",
       "Hwy MPG                  object\n",
       "Cmb MPG                  object\n",
       "Greenhouse Gas Score      int64\n",
       "SmartWay                 object\n",
       "Comb CO2                 object\n",
       "dtype: object"
      ]
     },
     "execution_count": 23,
     "metadata": {},
     "output_type": "execute_result"
    }
   ],
   "source": [
    "df_2.dtypes"
   ]
  },
  {
   "cell_type": "code",
   "execution_count": 25,
   "id": "7f063177",
   "metadata": {},
   "outputs": [
    {
     "data": {
      "text/plain": [
       "0"
      ]
     },
     "execution_count": 25,
     "metadata": {},
     "output_type": "execute_result"
    }
   ],
   "source": [
    "df_2.duplicated().sum()"
   ]
  },
  {
   "cell_type": "code",
   "execution_count": 28,
   "id": "3fbc7754",
   "metadata": {},
   "outputs": [
    {
     "data": {
      "text/plain": [
       "Model                   0\n",
       "Displ                   2\n",
       "Cyl                     2\n",
       "Trans                   0\n",
       "Drive                   0\n",
       "Fuel                    0\n",
       "Cert Region             0\n",
       "Stnd                    0\n",
       "Stnd Description        0\n",
       "Underhood ID            0\n",
       "Veh Class               0\n",
       "Air Pollution Score     0\n",
       "City MPG                0\n",
       "Hwy MPG                 0\n",
       "Cmb MPG                 0\n",
       "Greenhouse Gas Score    0\n",
       "SmartWay                0\n",
       "Comb CO2                0\n",
       "dtype: int64"
      ]
     },
     "execution_count": 28,
     "metadata": {},
     "output_type": "execute_result"
    }
   ],
   "source": [
    "df_2.isnull().sum()"
   ]
  },
  {
   "cell_type": "code",
   "execution_count": 29,
   "id": "7d47fc52",
   "metadata": {},
   "outputs": [
    {
     "data": {
      "text/plain": [
       "array(['No', 'Yes', 'Elite'], dtype=object)"
      ]
     },
     "execution_count": 29,
     "metadata": {},
     "output_type": "execute_result"
    }
   ],
   "source": [
    "df_2[\"SmartWay\"].dropna().unique()"
   ]
  },
  {
   "cell_type": "code",
   "execution_count": 30,
   "id": "35201f17",
   "metadata": {},
   "outputs": [
    {
     "data": {
      "text/plain": [
       "array(['Gasoline', 'ethanol/gas', 'ethanol', 'diesel', 'CNG'],\n",
       "      dtype=object)"
      ]
     },
     "execution_count": 30,
     "metadata": {},
     "output_type": "execute_result"
    }
   ],
   "source": [
    "df_1[\"Fuel\"].dropna().unique()"
   ]
  },
  {
   "cell_type": "code",
   "execution_count": 32,
   "id": "4ca0fea2",
   "metadata": {},
   "outputs": [
    {
     "data": {
      "text/plain": [
       "array(['Gasoline', 'Gasoline/Electricity', 'Diesel', 'Ethanol/Gas',\n",
       "       'Electricity'], dtype=object)"
      ]
     },
     "execution_count": 32,
     "metadata": {},
     "output_type": "execute_result"
    }
   ],
   "source": [
    "df_2[\"Fuel\"].dropna().unique()"
   ]
  },
  {
   "cell_type": "markdown",
   "id": "64321de0",
   "metadata": {},
   "source": [
    "# Cleaning Column Labels"
   ]
  },
  {
   "cell_type": "code",
   "execution_count": 42,
   "id": "34b760ac",
   "metadata": {},
   "outputs": [
    {
     "data": {
      "text/plain": [
       "array(['U2', 'B5', 'L2', 'S2', 'B8', 'SLEV', 'B4', 'HDV', 'LEV', 'B3',\n",
       "       'B2', 'B10'], dtype=object)"
      ]
     },
     "execution_count": 42,
     "metadata": {},
     "output_type": "execute_result"
    }
   ],
   "source": [
    "df_1[\"Stnd\"].unique()"
   ]
  },
  {
   "cell_type": "code",
   "execution_count": 43,
   "id": "aa1a7d47",
   "metadata": {},
   "outputs": [
    {
     "data": {
      "text/plain": [
       "array(['T3B125', 'U2', 'L3ULEV125', 'L2', 'T3B160', 'T3B110', 'L2ULEV125',\n",
       "       'S2', 'T3B30', 'L3SULEV30', 'L3ULEV70', 'T3B70', 'L3LEV160',\n",
       "       'L3ULEV50', 'T3B50', 'B5', 'T3B0', 'ZEV', 'L2LEV160'], dtype=object)"
      ]
     },
     "execution_count": 43,
     "metadata": {},
     "output_type": "execute_result"
    }
   ],
   "source": [
    "df_2[\"Stnd\"].unique()"
   ]
  },
  {
   "cell_type": "code",
   "execution_count": 44,
   "id": "149ac8ca",
   "metadata": {},
   "outputs": [
    {
     "data": {
      "text/plain": [
       "array(['8HNXT03.7PKR', '8HNXT02.3DKR', '8HNXV03.5HKR', '8HNXV03.5RKR',\n",
       "       '8HNXV02.4FKC', '8ASXV05.9803', '8ASXV04.3305', '8ADXV02.0366',\n",
       "       '8VWXV03.2535', '8ADXV02.0352', '8ADXV03.1374', '8ADXV04.2365',\n",
       "       '8ADXV06.0359', '8VWXT03.6276', '8ADXT04.2358', '8ADXV04.2375',\n",
       "       '8ADXV04.2355', '8ADXV05.2385', '8BEXV06.7TTC', '8BEXV06.0501',\n",
       "       '8BMXV03.0N51', '8BMXB03.0N52', '8BMXV03.0N54', '8BMXV04.8UL2',\n",
       "       '8BMXV06.0LE2', '8ABBV04.4H10', '8BMXV05.0S85', '8BMXT03.0E70',\n",
       "       '8BMXT04.8E70', '8BGTV08.0V16', '8GMXV03.8044', '8GMXV03.6041',\n",
       "       '8GMXB03.8146', '8GMXV05.3084', '8GMXT03.6151', '8GMXV04.6066',\n",
       "       '8GMXV04.6065', '8GMXB03.9142', '8GMXV03.6053', '8GMXB03.6148',\n",
       "       '8GMXT06.2382', '8GMXB04.6167', '8GMXT05.3381', '8GMXT05.3380',\n",
       "       '8GMXT06.0383', '8GMXT05.3373', '8GMXT05.3379', '8GDXV01.6D04',\n",
       "       '8GMXV03.5043', '8GMXV02.2028', '8GMXV02.2030', '8GMXV02.4025',\n",
       "       '8GMXT02.9190', '8GMXT03.7188', '8GMXT02.9189', '8GMXT03.7187',\n",
       "       '8GMXV06.2086', '8GMXV06.2081', '8GMXV07.0085', '8GMXT05.3384',\n",
       "       '8GMXT06.2394', '8GMXK06.0389', '8GMXK06.0396', '8GMXV02.4032',\n",
       "       '8GMXV02.0021', '8GMXV03.9052', '8GMXV02.4027', '8GMXV02.4040',\n",
       "       '8GMXT04.3186', '8GMXT06.0392', '8GMXT04.2186', '8GMXT04.2185',\n",
       "       '8GMXT06.0387', '8GMXT03.9140', '8CRXV0215M80', '8CRXV05.7MD0',\n",
       "       '8CRXV02.7ME0', '8CRXV03.5ME0', '8CRXV06.1ME0', '8CRXT0287P80',\n",
       "       '8CRXT05.7PE0', '8CRXT04.7PJP', '8CRXV03.2ME0', '8CRXV0148M80',\n",
       "       '8CRXV02.4ME1', '8CRXV02.4ME3', '8CRXT0231N80', '8CRXB0241M80',\n",
       "       '8CRXT03.8NE0', '8CRXB04.0ME0', '8CRXB0144M80', '8CRXB02.4ME0',\n",
       "       '8CRXV0167M70', '8CRXV02.7MHP', '8CRXT03.3NEP', '8MBXT03.5L2A',\n",
       "       '8CRXB0144M81', '8CRXT0226P80', '8CRXT03.7PE0', '8CRXT0226N80',\n",
       "       '8CRXT03.7NE0', '8CRXT04.0NE0', '8CRXT04.7PE0', '8CRXK05.7TX1',\n",
       "       '8CEXK06.7TXW', '8CRXK05.7TX0', '8CEXK06.7UXW', '8MBXT03.5BN8',\n",
       "       '8CRXV08.4ME0', '8FEXV05.7LEV', '8FMXV04.6VEF', '8FMXT04.65HA',\n",
       "       '8FMXT05.45H2', '8FMXK04.66RA', '8FMXK05.46R3', '8FMXT04.65E9',\n",
       "       '8FMXT06.85HR', '8FMXT03.52EB', '8FMXT02.31EF', '8FMXT02.31EA',\n",
       "       '8FMXT03.01EB', '8FMXT03.02EC', '8FMXT02.32ZE', '8FMXT05.44E6',\n",
       "       '8FMXT04.03DB', '8FMXT04.63BX', '8FMXT04.63EZ', '8FMXT05.44D7',\n",
       "       '8FMXT04.23A4', '8FMXT04.63AB', '8FMXT04.23H4', '8FMXT04.63HB',\n",
       "       '8FMXT05.44HA', '8FMXT05.44E2', '8FMXT05.44HF', '8FMXT05.43DP',\n",
       "       '8FMXT05.43HP', '8S3XT05.4IBB', '8FMXK05.46RG', '8FMXK06.86RA',\n",
       "       '8FMXK05.46BG', '8FMXK05.47RE', '8FMXK06.87RB', '8FMXV02.0VZP',\n",
       "       '8FMXV02.0VD4', '8FMXV02.3VZT', '8FMXV03.0VEK', '8FMXV02.3VEU',\n",
       "       '8FMXV04.0VER', '8FMXV04.6VBB', '8FMXV05.4VEK', '8FMXT02.31BA',\n",
       "       '8FMXT03.01BK', '8FMXT03.02BB', '8FMXT02.31EL', '8FMXT03.01EM',\n",
       "       '8FMXT03.02EH', '8FMXT04.02EG', '8FMXV03.51ZL', '8FMXV03.5VEP',\n",
       "       '8HNXV02.4EMC', '8HNXV03.5BMC', '8HNXV02.4TKR', '8HNXV03.5VKR',\n",
       "       '8HNXT02.4KKR', '8HNXV01.8XW3', '8HNXV01.8LKR', '8HNXV01.3ZCP',\n",
       "       '8HNXV02.4CKC', '8HNXV01.5JKC', '8HNXT03.54KR', '8HNXT03.5NKR',\n",
       "       '8HNXT03.5MKR', '8HNXV02.2AKC', '8GMXT05.3377', '8GMXT05.3376',\n",
       "       '8HYXV01.6MW5', '8HYXV03.3TW5', '8HYXV03.8AW5', '8HYXV02.0HPC',\n",
       "       '8HYXV02.0HW5', '8KMXT03.8VW5', '8HYXT02.7CW5', '8HYXT03.3PW5',\n",
       "       '8HYXV02.4SW5', '8HYXV03.3FW5', '8HYXV02.0GW5', '8HYXV02.7KM5',\n",
       "       '8HYXT02.0JW5', '8HYXT02.7MM5', '8HYXT03.8EM5', '8NSXT03.5G7A',\n",
       "       '8NSXT04.5G8A', '8NSXV03.5GAB', '8NSXV03.7GAA', '8NSXV03.5G7C',\n",
       "       '8NSXV04.5G8A', '8NSXT05.6G9A', '8CRXT06.1PE0', '8CRXT03.05RW',\n",
       "       '8CRXT0231N81', '8CRXT03.8NE1', '8KMXV03.8HW5', '8KMXV02.4MW5',\n",
       "       '8KMXV01.6BW5', '8KMXV02.4UW5', '8KMXV02.7NW5', '8KMXT03.8LM5',\n",
       "       '8KMXV02.0LPC', '8KMXV02.0LW5', '8KMXT02.0KW5', '8KMXT02.7MM5',\n",
       "       '8NLXV05.0406', '8NLXV06.5474', '8LRXT03.2001', '8LRXT04.4001',\n",
       "       '8LRXT04.2001', '8TYXV03.5BEA', '8TYXV03.5BEB', '8TYXV03.5CC4',\n",
       "       '8TYXV04.6BEA', '8TYXT04.7BES', '8TYXV02.5BEA', '8TYXV05.0CC4',\n",
       "       '8TYXT05.7BEX', '8TYXT03.5BEM', '8TYXT03.3CCU', '8TYXV04.3AJA',\n",
       "       '8LTXV01.8JHB', '8MAXV04.2LEV', '8TKXV02.0NH1', '8TKXV02.3NH1',\n",
       "       '8TKXV02.3NF1', '8TKXV02.35NM', '8TKXV02.35NN', '8TKXV02.35DA',\n",
       "       '8TKXV02.3NH2', '8TKXV03.05FA', '8TKXV02.35DB', '8TKXT02.35DA',\n",
       "       '8TKXT03.75FA', '8TKXV02.05FA', '8TKXV01.35DA', '8MBXV03.5BN4',\n",
       "       '8MBXV03.0U2A', '8MBXB05.5U2A', '8MBXV06.0L2A', '8MBXB06.3L2A',\n",
       "       '8MBXV05.5BN4', '8MBXV03.0BN8', '8MBXV03.5S2A', '8MBXT05.5L2A',\n",
       "       '8MBXT03.0B10', '8MBXB03.5U2A', '8MBXV05.5L2A', '8BMXV01.6R52',\n",
       "       '8DSXV02.4G4H', '8DSXV02.4GRH', '8DSXV03.8GRB', '8DSXV03.8GRC',\n",
       "       '8DSXT03.8GRB', '8DSXV02.4G6G', '8DSXV02.4GRG', '8MTXV02.0G6G',\n",
       "       '8MTXV02.0GRG', '8MTXT03.0G6G', '8MTXT02.4GRB', '8MTXT03.0GRG',\n",
       "       '8NSXV02.585A', '8NSXV03.5G7B', '8NSXV02.5G5A', '8NSXV02.5G3A',\n",
       "       '8NSXT05.6G9B', '8NSXT02.5G5A', '8NSXT04.0G6A', '8NSXV03.5G7A',\n",
       "       '8NSXT03.5G7C', '8NSXT02.585A', '8NSXT02.5G5B', '8NSXV02.0G2A',\n",
       "       '8NSXV02.5G5B', '8NSXV01.8G1A', '8GMXV06.0082', '8GMXV02.0020',\n",
       "       '8GMXV02.4031', '8NTXV01.8BEA', '8PRXV03.6T97', '8PRXV03.6GT3',\n",
       "       '8PRXV03.4C87', '8PRXV03.8997', '8PRXT03.66ED', '8PRXT04.8SED',\n",
       "       '8PRXT04.8TED', '8RRGV06.7LE2', '8RIIT05.4RI7', '8RIIV04.6VBB',\n",
       "       '8GMXV02.3001', '8GMXV02.8004', '8GMXT04.2188', '8S3XV05.0JDC',\n",
       "       '8GMXT02.4124', '8GMXT02.4123', '8GMXT02.4135', '8SLBV04.600F',\n",
       "       '8FJXB02.5NVD', '8FJXV02.5PRA', '8FJXV02.5MTC', '8FJXB02.5PYH',\n",
       "       '8FJXB02.5MXG', '8FJXB03.6TSF', '8GDXV02.0D04', '8SKXT2.745E1',\n",
       "       '8SKXV1.995D1', '8GMXT03.6150', '8TYXT04.7BEM', '8TYXT04.0AEM',\n",
       "       '8TYXV02.4HX2', '8TYXV02.4BEA', '8TYXV02.4HC3', '8TYXV01.8BEA',\n",
       "       '8TYXT03.3CC4', '8TYXV01.5HC3', '8TYXT02.4BEH', '8TYXT02.4BEM',\n",
       "       '8TYXV02.4BEB', '8TYXV01.8AJA', '8TYXT04.7BGX', '8TYXV03.3BEA',\n",
       "       '8TYXT02.7AEH', '8TYXT02.7AEM', '8TYXT04.0AES', '8TYXV01.5BEA',\n",
       "       '8VWXV02.5257', '8VWXV02.5253', '8VWXV03.6246', '8VWXT05.0375',\n",
       "       '8VVXV02.4U2N', '8VVXV02.5U2T', '8VVXV02.4S2N', '8VVXV02.4L2T',\n",
       "       '8VVXV03.0U2T', '8VVXB03.2U2N', '8VVXB04.4U2N'], dtype=object)"
      ]
     },
     "execution_count": 44,
     "metadata": {},
     "output_type": "execute_result"
    }
   ],
   "source": [
    "df_1[\"Underhood ID\"].unique()"
   ]
  },
  {
   "cell_type": "code",
   "execution_count": 45,
   "id": "ea3dd0f9",
   "metadata": {},
   "outputs": [
    {
     "data": {
      "text/plain": [
       "array(['JHNXT03.5GV3', 'JHNXV02.4WH3', 'JHNXV03.5LH3', 'JCRXV01.85P0',\n",
       "       'JCRXJ02.05P0', 'JCRXJ02.95P0', 'JVGAV02.0APA', 'JVGAJ02.0A3A',\n",
       "       'JVGAV02.0A7C', 'JVGAJ02.0AAC', 'JVGAJ03.0AUE', 'JVGAV02.0AUA',\n",
       "       'JVGAV02.5NAG', 'JVGAJ03.0N7F', 'JVGAT06.0EAR', 'JVGAV08.0GLB',\n",
       "       'JBMXJ02.0B4X', 'JBMXJ02.0N20', 'JBMXV02.0H48', 'JBMXV03.0B58',\n",
       "       'JBMXV02.0H30', 'JBMXJ03.0B5X', 'JBMXJ03.0F16', 'JBMXJ04.4N63',\n",
       "       'JBMXV03.0B2X', 'JBMXV03.0S55', 'JBMXV04.4S63', 'JBMXV06.6N74',\n",
       "       'JBMXV02.0B46', 'JBMXT03.0N55', 'JGMXV01.4001', 'JGMXV01.4099',\n",
       "       'JGMXV02.5050', 'JGMXV03.6165', 'JGMXV02.0031', 'JGMXV03.6042',\n",
       "       'JGMXV06.2089', 'JGMXT06.2374', 'JGMXT03.6151', 'JGMXV06.2090',\n",
       "       'JGMXT02.5200', 'JGMXT02.8358', 'JGMXT03.6161', 'JGMXT03.6162',\n",
       "       'JGMXT02.8357', 'JGMXV01.5002', 'JGMXJ01.6356', 'JGMXT01.5090',\n",
       "       'JGMXT02.0100', 'JGMXV02.5001', 'JGMXV03.6166', 'JGMXV03.6048',\n",
       "       'JGMXV01.5010', 'JGMXV01.8050', 'JGMXT04.3187', 'JGMXT05.3382',\n",
       "       'JGMXT05.3384', 'JGMXT05.3383', 'JGMXV01.5020', 'JGMXV01.5030',\n",
       "       'JCRXV03.65PA', 'JCRXV03.65P0', 'JCRXV05.75P1', 'JCRXT03.65P4',\n",
       "       'JCRXV06.45P0', 'JCRXV06.25P0', 'JCRXT03.65P5', 'JCRXT05.75P2',\n",
       "       'JCRXT06.45P1', 'JCRXT02.45P2', 'JCRXT03.65PC', 'JFEXV03.9TUR',\n",
       "       'JFEXV06.5GDI', 'JCRXJ01.45P0', 'JFMXT02.73JK', 'JFMXT03.33DT',\n",
       "       'JFMXT03.54JK', 'JFMXT05.03DN', 'JFMXT03.54JM', 'JFMXV03.7VE8',\n",
       "       'JFMXJ03.5VEP', 'JFMXV01.5VZ3', 'JFMXV02.0VEN', 'JFMXV02.5VEU',\n",
       "       'JFMXV02.7VLM', 'JFMXV02.0VZQ', 'JFMXV02.0VZT', 'JFMXT02.52J9',\n",
       "       'JFMXT02.52K9', 'JHYXV03.31Y6', 'JHYXV03.81P5', 'JHYXV05.01R5',\n",
       "       'JHYXV03.31MF', 'JHYXV05.01S5', 'JGMXT02.5201', 'JGMXT01.5095',\n",
       "       'JHNXV01.5362', 'JHNXV01.5TH2', 'JHNXV01.5YK2', 'JHNXV01.5KH2',\n",
       "       'JHNXV01.8HA3', 'JHNXT03.5SW4', 'JHYXV01.41D6', 'JHYXV01.61KF',\n",
       "       'JHYXV02.01E5', 'JHYXV02.01E3', 'JHYXV01.61NF', 'JHYXV02.01G6',\n",
       "       'JHYXV03.31XF', 'JHYXV02.01VF', 'JHYXV02.41W5', 'JHYXV01.61F5',\n",
       "       'JHYXV02.01H5', 'JHYXV02.4AJ3', 'JHYXV02.4AJ5', 'JNSXV02.0NJA',\n",
       "       'JNSXV03.0NHA', 'JNSXV03.5NCB', 'JNSXV03.7NAA', 'JNSXV03.7NAB',\n",
       "       'JNSXV05.6N9A', 'JNSXV02.0NKA', 'JJLXJ02.0STY', 'JJLXJ02.0RTX',\n",
       "       'JJLXJ03.0FSP', 'JJLXV05.0FAM', 'JCRXT02.45PA', 'JCRXT02.45P1',\n",
       "       'JCRXT02.45P0', 'JCRXT03.25P0', 'JCRXT02.45P3', 'JKALV02.0LEV',\n",
       "       'JKMXV02.04E5', 'JKMXV02.04E3', 'JKMXV02.04F3', 'JKMXV02.04FF',\n",
       "       'JKMXV01.6DDF', 'JKMXV01.64VF', 'JKMXV02.04GF', 'JKMXV01.6DA6',\n",
       "       'JKMXT03.34SF', 'JKMXV02.04WF', 'JKMXV02.44P5', 'JKMXV03.34RF',\n",
       "       'JKMXV01.64JF', 'JKMXV02.04C3', 'JKMXV02.04C5', 'JKMXV00.0411',\n",
       "       'JKMXT02.04MF', 'JKMXT02.44N3', 'JKMXT02.44N5', 'JVGAV06.5LLR',\n",
       "       'JTYXT04.6B6X', 'JTYXV05.0M5A', 'JTYXV03.5P35', 'JTYXT05.7B6Y',\n",
       "       'JFMXV03.0VLG', 'JFMXV03.7VLT', 'JMAXV03.0DFI', 'JMAXV04.7LEV',\n",
       "       'JMAXT03.0AWD', 'JMAXV03.8DFI', 'JTKXV02.0CDA', 'JTKXV02.5CDB',\n",
       "       'JTKXV02.5FBA', 'JTKXT02.5FFA', 'JMBXJ03.0U2A', 'JMBXV04.0U2A',\n",
       "       'JMBXV02.0U2C', 'JMBXV05.5U2A', 'JMBXT03.0U2B', 'JMBXT05.5U2A',\n",
       "       'JMBXJ04.0U2A', 'JMBXJ06.0U2A', 'JMBXJ02.0U2C', 'JMBXJ02.0U2B',\n",
       "       'JMBXJ02.0U2A', 'JMBXT03.5U2A', 'JMBXT03.5U2B', 'JMBXV02.0U2A',\n",
       "       'JBMXV01.5M36', 'JBMXV01.5M3X', 'JBMXV02.0M46', 'JBMXV01.5H60',\n",
       "       'JBMXV02.0M48', 'JMTXV01.2G5P', 'JNSXT05.6N9C', 'JNSXV01.6N4A',\n",
       "       'JNSXV01.6P4A', 'JPRXV03.0C91', 'JPRXV04.0T91', 'JPRXV02.5B82',\n",
       "       'JPRXT03.6MCS', 'JPRXT02.0MR4', 'JPRXV03.0PV6', 'JPRXV04.0PV8',\n",
       "       'JFJXJ02.0BUY', 'JFJXJ02.0FPT', 'JFJXJ02.5HRV', 'JFJXJ03.6KTX',\n",
       "       'JFJXV02.5PHU', 'JTYXT04.0B6S', 'JTYXV03.5B6C', 'JTYXV02.5P34',\n",
       "       'JTYXV02.0K6B', 'JTYXV02.5P3A', 'JTYXV03.5M5B', 'JTYXV02.5P35',\n",
       "       'JTYXV02.5P33', 'JTYXV01.8B6A', 'JTYXV01.8M5B', 'JTYXV01.5P34',\n",
       "       'JTYXT02.5B6H', 'JTYXT02.5P3M', 'JTYXT05.7M5W', 'JTYXT05.7M58',\n",
       "       'JTYXT04.6B6W', 'JTYXV01.5B6B', 'JVGAV02.0V3R', 'JVGAV01.4VUP',\n",
       "       'JVGAV01.4V7P', 'JVGAV02.0VPD', 'JVGAT03.6VAS', 'JVVXV02.0030',\n",
       "       'JVVXJ02.0125', 'JVVXV02.0160', 'JVVXJ02.0A70', 'JVVXJ02.0B70',\n",
       "       'JVVXV02.0P30', 'JVVXJ02.0P30'], dtype=object)"
      ]
     },
     "execution_count": 45,
     "metadata": {},
     "output_type": "execute_result"
    }
   ],
   "source": [
    "df_2[\"Underhood ID\"].unique()"
   ]
  },
  {
   "cell_type": "code",
   "execution_count": 47,
   "id": "4baba2ca",
   "metadata": {},
   "outputs": [
    {
     "data": {
      "text/plain": [
       "'these colunmns are not consistent in the data so they have to be droped with unmatched columns'"
      ]
     },
     "execution_count": 47,
     "metadata": {},
     "output_type": "execute_result"
    }
   ],
   "source": [
    "'''these colunmns are not consistent in the data so they have to be droped with unmatched columns'''"
   ]
  },
  {
   "cell_type": "code",
   "execution_count": 56,
   "id": "80f70e1f",
   "metadata": {},
   "outputs": [
    {
     "data": {
      "text/html": [
       "<div>\n",
       "<style scoped>\n",
       "    .dataframe tbody tr th:only-of-type {\n",
       "        vertical-align: middle;\n",
       "    }\n",
       "\n",
       "    .dataframe tbody tr th {\n",
       "        vertical-align: top;\n",
       "    }\n",
       "\n",
       "    .dataframe thead th {\n",
       "        text-align: right;\n",
       "    }\n",
       "</style>\n",
       "<table border=\"1\" class=\"dataframe\">\n",
       "  <thead>\n",
       "    <tr style=\"text-align: right;\">\n",
       "      <th></th>\n",
       "      <th>Model</th>\n",
       "      <th>Displ</th>\n",
       "      <th>Cyl</th>\n",
       "      <th>Trans</th>\n",
       "      <th>Drive</th>\n",
       "      <th>Fuel</th>\n",
       "      <th>Sales Area</th>\n",
       "      <th>Veh Class</th>\n",
       "      <th>Air Pollution Score</th>\n",
       "      <th>City MPG</th>\n",
       "      <th>Hwy MPG</th>\n",
       "      <th>Cmb MPG</th>\n",
       "      <th>Greenhouse Gas Score</th>\n",
       "      <th>SmartWay</th>\n",
       "    </tr>\n",
       "  </thead>\n",
       "  <tbody>\n",
       "    <tr>\n",
       "      <th>0</th>\n",
       "      <td>ACURA MDX</td>\n",
       "      <td>3.7</td>\n",
       "      <td>(6 cyl)</td>\n",
       "      <td>Auto-S5</td>\n",
       "      <td>4WD</td>\n",
       "      <td>Gasoline</td>\n",
       "      <td>CA</td>\n",
       "      <td>SUV</td>\n",
       "      <td>7</td>\n",
       "      <td>15</td>\n",
       "      <td>20</td>\n",
       "      <td>17</td>\n",
       "      <td>4</td>\n",
       "      <td>no</td>\n",
       "    </tr>\n",
       "    <tr>\n",
       "      <th>1</th>\n",
       "      <td>ACURA MDX</td>\n",
       "      <td>3.7</td>\n",
       "      <td>(6 cyl)</td>\n",
       "      <td>Auto-S5</td>\n",
       "      <td>4WD</td>\n",
       "      <td>Gasoline</td>\n",
       "      <td>FA</td>\n",
       "      <td>SUV</td>\n",
       "      <td>6</td>\n",
       "      <td>15</td>\n",
       "      <td>20</td>\n",
       "      <td>17</td>\n",
       "      <td>4</td>\n",
       "      <td>no</td>\n",
       "    </tr>\n",
       "    <tr>\n",
       "      <th>2</th>\n",
       "      <td>ACURA RDX</td>\n",
       "      <td>2.3</td>\n",
       "      <td>(4 cyl)</td>\n",
       "      <td>Auto-S5</td>\n",
       "      <td>4WD</td>\n",
       "      <td>Gasoline</td>\n",
       "      <td>CA</td>\n",
       "      <td>SUV</td>\n",
       "      <td>7</td>\n",
       "      <td>17</td>\n",
       "      <td>22</td>\n",
       "      <td>19</td>\n",
       "      <td>5</td>\n",
       "      <td>no</td>\n",
       "    </tr>\n",
       "    <tr>\n",
       "      <th>3</th>\n",
       "      <td>ACURA RDX</td>\n",
       "      <td>2.3</td>\n",
       "      <td>(4 cyl)</td>\n",
       "      <td>Auto-S5</td>\n",
       "      <td>4WD</td>\n",
       "      <td>Gasoline</td>\n",
       "      <td>FA</td>\n",
       "      <td>SUV</td>\n",
       "      <td>6</td>\n",
       "      <td>17</td>\n",
       "      <td>22</td>\n",
       "      <td>19</td>\n",
       "      <td>5</td>\n",
       "      <td>no</td>\n",
       "    </tr>\n",
       "    <tr>\n",
       "      <th>4</th>\n",
       "      <td>ACURA RL</td>\n",
       "      <td>3.5</td>\n",
       "      <td>(6 cyl)</td>\n",
       "      <td>Auto-S5</td>\n",
       "      <td>4WD</td>\n",
       "      <td>Gasoline</td>\n",
       "      <td>CA</td>\n",
       "      <td>midsize car</td>\n",
       "      <td>7</td>\n",
       "      <td>16</td>\n",
       "      <td>24</td>\n",
       "      <td>19</td>\n",
       "      <td>5</td>\n",
       "      <td>no</td>\n",
       "    </tr>\n",
       "  </tbody>\n",
       "</table>\n",
       "</div>"
      ],
      "text/plain": [
       "       Model  Displ      Cyl    Trans Drive      Fuel Sales Area    Veh Class  \\\n",
       "0  ACURA MDX    3.7  (6 cyl)  Auto-S5   4WD  Gasoline         CA          SUV   \n",
       "1  ACURA MDX    3.7  (6 cyl)  Auto-S5   4WD  Gasoline         FA          SUV   \n",
       "2  ACURA RDX    2.3  (4 cyl)  Auto-S5   4WD  Gasoline         CA          SUV   \n",
       "3  ACURA RDX    2.3  (4 cyl)  Auto-S5   4WD  Gasoline         FA          SUV   \n",
       "4   ACURA RL    3.5  (6 cyl)  Auto-S5   4WD  Gasoline         CA  midsize car   \n",
       "\n",
       "  Air Pollution Score City MPG Hwy MPG Cmb MPG Greenhouse Gas Score SmartWay  \n",
       "0                   7       15      20      17                    4       no  \n",
       "1                   6       15      20      17                    4       no  \n",
       "2                   7       17      22      19                    5       no  \n",
       "3                   6       17      22      19                    5       no  \n",
       "4                   7       16      24      19                    5       no  "
      ]
     },
     "execution_count": 56,
     "metadata": {},
     "output_type": "execute_result"
    }
   ],
   "source": [
    "columns_drop =['Stnd', 'Underhood ID', 'FE Calc Appr', 'Unadj Cmb MPG']\n",
    "df_1.drop(columns_drop,axis=1,inplace = True)\n",
    "df_1.head()"
   ]
  },
  {
   "cell_type": "code",
   "execution_count": 57,
   "id": "d0614a61",
   "metadata": {},
   "outputs": [
    {
     "data": {
      "text/html": [
       "<div>\n",
       "<style scoped>\n",
       "    .dataframe tbody tr th:only-of-type {\n",
       "        vertical-align: middle;\n",
       "    }\n",
       "\n",
       "    .dataframe tbody tr th {\n",
       "        vertical-align: top;\n",
       "    }\n",
       "\n",
       "    .dataframe thead th {\n",
       "        text-align: right;\n",
       "    }\n",
       "</style>\n",
       "<table border=\"1\" class=\"dataframe\">\n",
       "  <thead>\n",
       "    <tr style=\"text-align: right;\">\n",
       "      <th></th>\n",
       "      <th>Model</th>\n",
       "      <th>Displ</th>\n",
       "      <th>Cyl</th>\n",
       "      <th>Trans</th>\n",
       "      <th>Drive</th>\n",
       "      <th>Fuel</th>\n",
       "      <th>Cert Region</th>\n",
       "      <th>Veh Class</th>\n",
       "      <th>Air Pollution Score</th>\n",
       "      <th>City MPG</th>\n",
       "      <th>Hwy MPG</th>\n",
       "      <th>Cmb MPG</th>\n",
       "      <th>Greenhouse Gas Score</th>\n",
       "      <th>SmartWay</th>\n",
       "    </tr>\n",
       "  </thead>\n",
       "  <tbody>\n",
       "    <tr>\n",
       "      <th>0</th>\n",
       "      <td>ACURA RDX</td>\n",
       "      <td>3.5</td>\n",
       "      <td>6.0</td>\n",
       "      <td>SemiAuto-6</td>\n",
       "      <td>2WD</td>\n",
       "      <td>Gasoline</td>\n",
       "      <td>FA</td>\n",
       "      <td>small SUV</td>\n",
       "      <td>3</td>\n",
       "      <td>20</td>\n",
       "      <td>28</td>\n",
       "      <td>23</td>\n",
       "      <td>5</td>\n",
       "      <td>No</td>\n",
       "    </tr>\n",
       "    <tr>\n",
       "      <th>1</th>\n",
       "      <td>ACURA RDX</td>\n",
       "      <td>3.5</td>\n",
       "      <td>6.0</td>\n",
       "      <td>SemiAuto-6</td>\n",
       "      <td>2WD</td>\n",
       "      <td>Gasoline</td>\n",
       "      <td>CA</td>\n",
       "      <td>small SUV</td>\n",
       "      <td>3</td>\n",
       "      <td>20</td>\n",
       "      <td>28</td>\n",
       "      <td>23</td>\n",
       "      <td>5</td>\n",
       "      <td>No</td>\n",
       "    </tr>\n",
       "    <tr>\n",
       "      <th>2</th>\n",
       "      <td>ACURA RDX</td>\n",
       "      <td>3.5</td>\n",
       "      <td>6.0</td>\n",
       "      <td>SemiAuto-6</td>\n",
       "      <td>4WD</td>\n",
       "      <td>Gasoline</td>\n",
       "      <td>FA</td>\n",
       "      <td>small SUV</td>\n",
       "      <td>3</td>\n",
       "      <td>19</td>\n",
       "      <td>27</td>\n",
       "      <td>22</td>\n",
       "      <td>4</td>\n",
       "      <td>No</td>\n",
       "    </tr>\n",
       "    <tr>\n",
       "      <th>3</th>\n",
       "      <td>ACURA RDX</td>\n",
       "      <td>3.5</td>\n",
       "      <td>6.0</td>\n",
       "      <td>SemiAuto-6</td>\n",
       "      <td>4WD</td>\n",
       "      <td>Gasoline</td>\n",
       "      <td>CA</td>\n",
       "      <td>small SUV</td>\n",
       "      <td>3</td>\n",
       "      <td>19</td>\n",
       "      <td>27</td>\n",
       "      <td>22</td>\n",
       "      <td>4</td>\n",
       "      <td>No</td>\n",
       "    </tr>\n",
       "    <tr>\n",
       "      <th>4</th>\n",
       "      <td>ACURA TLX</td>\n",
       "      <td>2.4</td>\n",
       "      <td>4.0</td>\n",
       "      <td>AMS-8</td>\n",
       "      <td>2WD</td>\n",
       "      <td>Gasoline</td>\n",
       "      <td>CA</td>\n",
       "      <td>small car</td>\n",
       "      <td>3</td>\n",
       "      <td>23</td>\n",
       "      <td>33</td>\n",
       "      <td>27</td>\n",
       "      <td>6</td>\n",
       "      <td>No</td>\n",
       "    </tr>\n",
       "  </tbody>\n",
       "</table>\n",
       "</div>"
      ],
      "text/plain": [
       "       Model  Displ  Cyl       Trans Drive      Fuel Cert Region  Veh Class  \\\n",
       "0  ACURA RDX    3.5  6.0  SemiAuto-6   2WD  Gasoline          FA  small SUV   \n",
       "1  ACURA RDX    3.5  6.0  SemiAuto-6   2WD  Gasoline          CA  small SUV   \n",
       "2  ACURA RDX    3.5  6.0  SemiAuto-6   4WD  Gasoline          FA  small SUV   \n",
       "3  ACURA RDX    3.5  6.0  SemiAuto-6   4WD  Gasoline          CA  small SUV   \n",
       "4  ACURA TLX    2.4  4.0       AMS-8   2WD  Gasoline          CA  small car   \n",
       "\n",
       "   Air Pollution Score City MPG Hwy MPG Cmb MPG  Greenhouse Gas Score SmartWay  \n",
       "0                    3       20      28      23                     5       No  \n",
       "1                    3       20      28      23                     5       No  \n",
       "2                    3       19      27      22                     4       No  \n",
       "3                    3       19      27      22                     4       No  \n",
       "4                    3       23      33      27                     6       No  "
      ]
     },
     "execution_count": 57,
     "metadata": {},
     "output_type": "execute_result"
    }
   ],
   "source": [
    "columns_drop2 = ['Stnd', 'Stnd Description', 'Underhood ID', 'Comb CO2']\n",
    "df_2.drop(columns_drop2,axis=1,inplace=True)\n",
    "df_2.head()"
   ]
  },
  {
   "cell_type": "markdown",
   "id": "b2eae5cb",
   "metadata": {},
   "source": [
    "# cleaning column labels"
   ]
  },
  {
   "cell_type": "code",
   "execution_count": 58,
   "id": "b8670d3d",
   "metadata": {},
   "outputs": [
    {
     "data": {
      "text/html": [
       "<div>\n",
       "<style scoped>\n",
       "    .dataframe tbody tr th:only-of-type {\n",
       "        vertical-align: middle;\n",
       "    }\n",
       "\n",
       "    .dataframe tbody tr th {\n",
       "        vertical-align: top;\n",
       "    }\n",
       "\n",
       "    .dataframe thead th {\n",
       "        text-align: right;\n",
       "    }\n",
       "</style>\n",
       "<table border=\"1\" class=\"dataframe\">\n",
       "  <thead>\n",
       "    <tr style=\"text-align: right;\">\n",
       "      <th></th>\n",
       "      <th>Model</th>\n",
       "      <th>Displ</th>\n",
       "      <th>Cyl</th>\n",
       "      <th>Trans</th>\n",
       "      <th>Drive</th>\n",
       "      <th>Fuel</th>\n",
       "      <th>Cert Region</th>\n",
       "      <th>Veh Class</th>\n",
       "      <th>Air Pollution Score</th>\n",
       "      <th>City MPG</th>\n",
       "      <th>Hwy MPG</th>\n",
       "      <th>Cmb MPG</th>\n",
       "      <th>Greenhouse Gas Score</th>\n",
       "      <th>SmartWay</th>\n",
       "    </tr>\n",
       "  </thead>\n",
       "  <tbody>\n",
       "    <tr>\n",
       "      <th>0</th>\n",
       "      <td>ACURA MDX</td>\n",
       "      <td>3.7</td>\n",
       "      <td>(6 cyl)</td>\n",
       "      <td>Auto-S5</td>\n",
       "      <td>4WD</td>\n",
       "      <td>Gasoline</td>\n",
       "      <td>CA</td>\n",
       "      <td>SUV</td>\n",
       "      <td>7</td>\n",
       "      <td>15</td>\n",
       "      <td>20</td>\n",
       "      <td>17</td>\n",
       "      <td>4</td>\n",
       "      <td>no</td>\n",
       "    </tr>\n",
       "  </tbody>\n",
       "</table>\n",
       "</div>"
      ],
      "text/plain": [
       "       Model  Displ      Cyl    Trans Drive      Fuel Cert Region Veh Class  \\\n",
       "0  ACURA MDX    3.7  (6 cyl)  Auto-S5   4WD  Gasoline          CA       SUV   \n",
       "\n",
       "  Air Pollution Score City MPG Hwy MPG Cmb MPG Greenhouse Gas Score SmartWay  \n",
       "0                   7       15      20      17                    4       no  "
      ]
     },
     "execution_count": 58,
     "metadata": {},
     "output_type": "execute_result"
    }
   ],
   "source": [
    "# rename Sales Area to Cert Region\n",
    "df_1.rename(columns ={\"Sales Area\":\"Cert Region\"},inplace =True)\n",
    "df_1.head(1)"
   ]
  },
  {
   "cell_type": "code",
   "execution_count": 60,
   "id": "4613fc08",
   "metadata": {},
   "outputs": [],
   "source": [
    "# replace spaces with underscores and lowercase labels for 2008 dataset\n",
    "df_1.rename(columns = lambda x : x.strip().lower().replace(\" \",\"_\"),inplace=True)"
   ]
  },
  {
   "cell_type": "code",
   "execution_count": 61,
   "id": "425c0da9",
   "metadata": {},
   "outputs": [
    {
     "data": {
      "text/html": [
       "<div>\n",
       "<style scoped>\n",
       "    .dataframe tbody tr th:only-of-type {\n",
       "        vertical-align: middle;\n",
       "    }\n",
       "\n",
       "    .dataframe tbody tr th {\n",
       "        vertical-align: top;\n",
       "    }\n",
       "\n",
       "    .dataframe thead th {\n",
       "        text-align: right;\n",
       "    }\n",
       "</style>\n",
       "<table border=\"1\" class=\"dataframe\">\n",
       "  <thead>\n",
       "    <tr style=\"text-align: right;\">\n",
       "      <th></th>\n",
       "      <th>model</th>\n",
       "      <th>displ</th>\n",
       "      <th>cyl</th>\n",
       "      <th>trans</th>\n",
       "      <th>drive</th>\n",
       "      <th>fuel</th>\n",
       "      <th>cert_region</th>\n",
       "      <th>veh_class</th>\n",
       "      <th>air_pollution_score</th>\n",
       "      <th>city_mpg</th>\n",
       "      <th>hwy_mpg</th>\n",
       "      <th>cmb_mpg</th>\n",
       "      <th>greenhouse_gas_score</th>\n",
       "      <th>smartway</th>\n",
       "    </tr>\n",
       "  </thead>\n",
       "  <tbody>\n",
       "    <tr>\n",
       "      <th>0</th>\n",
       "      <td>ACURA MDX</td>\n",
       "      <td>3.7</td>\n",
       "      <td>(6 cyl)</td>\n",
       "      <td>Auto-S5</td>\n",
       "      <td>4WD</td>\n",
       "      <td>Gasoline</td>\n",
       "      <td>CA</td>\n",
       "      <td>SUV</td>\n",
       "      <td>7</td>\n",
       "      <td>15</td>\n",
       "      <td>20</td>\n",
       "      <td>17</td>\n",
       "      <td>4</td>\n",
       "      <td>no</td>\n",
       "    </tr>\n",
       "  </tbody>\n",
       "</table>\n",
       "</div>"
      ],
      "text/plain": [
       "       model  displ      cyl    trans drive      fuel cert_region veh_class  \\\n",
       "0  ACURA MDX    3.7  (6 cyl)  Auto-S5   4WD  Gasoline          CA       SUV   \n",
       "\n",
       "  air_pollution_score city_mpg hwy_mpg cmb_mpg greenhouse_gas_score smartway  \n",
       "0                   7       15      20      17                    4       no  "
      ]
     },
     "execution_count": 61,
     "metadata": {},
     "output_type": "execute_result"
    }
   ],
   "source": [
    "df_1.head(1)"
   ]
  },
  {
   "cell_type": "code",
   "execution_count": 62,
   "id": "08948e5d",
   "metadata": {},
   "outputs": [],
   "source": [
    "df_2.rename(columns = lambda x : x.strip().lower().replace(\" \",\"_\"),inplace=True)"
   ]
  },
  {
   "cell_type": "code",
   "execution_count": 64,
   "id": "40675ee5",
   "metadata": {},
   "outputs": [
    {
     "data": {
      "text/plain": [
       "array([ True,  True,  True,  True,  True,  True,  True,  True,  True,\n",
       "        True,  True,  True,  True,  True])"
      ]
     },
     "execution_count": 64,
     "metadata": {},
     "output_type": "execute_result"
    }
   ],
   "source": [
    "# confirm column labels for 2008 and 2018 datasets are identical\n",
    "df_1.columns == df_2.columns"
   ]
  },
  {
   "cell_type": "code",
   "execution_count": 66,
   "id": "748dd67a",
   "metadata": {},
   "outputs": [],
   "source": [
    "# save new datasets for next section\n",
    "df_1.to_csv('data_08_v1.csv', index=False)\n",
    "df_2.to_csv('data_18_v1.csv', index=False)"
   ]
  },
  {
   "cell_type": "code",
   "execution_count": null,
   "id": "28faa694",
   "metadata": {},
   "outputs": [],
   "source": []
  }
 ],
 "metadata": {
  "kernelspec": {
   "display_name": "Python 3 (ipykernel)",
   "language": "python",
   "name": "python3"
  },
  "language_info": {
   "codemirror_mode": {
    "name": "ipython",
    "version": 3
   },
   "file_extension": ".py",
   "mimetype": "text/x-python",
   "name": "python",
   "nbconvert_exporter": "python",
   "pygments_lexer": "ipython3",
   "version": "3.9.7"
  }
 },
 "nbformat": 4,
 "nbformat_minor": 5
}
